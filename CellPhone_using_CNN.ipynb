{
  "nbformat": 4,
  "nbformat_minor": 0,
  "metadata": {
    "colab": {
      "private_outputs": true,
      "provenance": [],
      "authorship_tag": "ABX9TyNd10vOzBSoCTT/pjrY+Fjk",
      "include_colab_link": true
    },
    "kernelspec": {
      "name": "python3",
      "display_name": "Python 3"
    },
    "language_info": {
      "name": "python"
    },
    "accelerator": "TPU"
  },
  "cells": [
    {
      "cell_type": "markdown",
      "metadata": {
        "id": "view-in-github",
        "colab_type": "text"
      },
      "source": [
        "<a href=\"https://colab.research.google.com/github/Vimalkumar-Narasimman/AI/blob/main/CellPhone_using_CNN.ipynb\" target=\"_parent\"><img src=\"https://colab.research.google.com/assets/colab-badge.svg\" alt=\"Open In Colab\"/></a>"
      ]
    },
    {
      "cell_type": "code",
      "execution_count": null,
      "metadata": {
        "id": "kixYtniVN5NC"
      },
      "outputs": [],
      "source": []
    },
    {
      "cell_type": "code",
      "source": [
        "from google.colab import drive\n",
        "drive.mount('/content/drive')"
      ],
      "metadata": {
        "id": "1DNUHBG2N9DL"
      },
      "execution_count": null,
      "outputs": []
    },
    {
      "cell_type": "code",
      "source": [],
      "metadata": {
        "id": "uhKRwdJWOymT"
      },
      "execution_count": null,
      "outputs": []
    },
    {
      "cell_type": "code",
      "execution_count": null,
      "metadata": {
        "id": "F445c758OtUc"
      },
      "outputs": [],
      "source": [
        "!pip install -q kaggle"
      ]
    },
    {
      "cell_type": "code",
      "source": [
        "from google.colab import files\n",
        "files.upload()"
      ],
      "metadata": {
        "id": "Tl5FR8AHO4tE"
      },
      "execution_count": null,
      "outputs": []
    },
    {
      "cell_type": "code",
      "source": [
        "!mkdir ~/.kaggle"
      ],
      "metadata": {
        "id": "8KPxOxmLPDb_"
      },
      "execution_count": null,
      "outputs": []
    },
    {
      "cell_type": "code",
      "source": [
        "!cp kaggle.json ~/.kaggle/"
      ],
      "metadata": {
        "id": "jiwe_ZwXPJXn"
      },
      "execution_count": null,
      "outputs": []
    },
    {
      "cell_type": "code",
      "source": [
        "!chmod 600 ~/.kaggle/kaggle.json"
      ],
      "metadata": {
        "id": "cQBCtQgCPSkl"
      },
      "execution_count": null,
      "outputs": []
    },
    {
      "cell_type": "code",
      "source": [
        "!kaggle datasets list"
      ],
      "metadata": {
        "id": "-Xo1l9ZtP_bg"
      },
      "execution_count": null,
      "outputs": []
    },
    {
      "cell_type": "code",
      "source": [
        "!kaggle datasets download -d vitorgamalemos/cellphone"
      ],
      "metadata": {
        "id": "2xt07GarSwE-"
      },
      "execution_count": null,
      "outputs": []
    },
    {
      "cell_type": "code",
      "source": [
        "!kaggle competitions download -c dogs-vs-cats"
      ],
      "metadata": {
        "id": "6qh8fwg6EqPu"
      },
      "execution_count": null,
      "outputs": []
    },
    {
      "cell_type": "code",
      "source": [
        "!unzip dogs-vs-cats.zip -d drive/MyDrive/Data"
      ],
      "metadata": {
        "id": "PJMV1XDyFHR_"
      },
      "execution_count": null,
      "outputs": []
    },
    {
      "cell_type": "code",
      "source": [
        "!unzip cellphone.zip -d drive/MyDrive/Data/cellphone"
      ],
      "metadata": {
        "id": "-m52P1j-TxBd"
      },
      "execution_count": null,
      "outputs": []
    },
    {
      "cell_type": "code",
      "source": [
        "import os\n",
        "import zipfile\n",
        "import random\n",
        "import cv2\n",
        "import numpy as np\n",
        "import seaborn as sns\n",
        "import matplotlib.pyplot as plt\n",
        "from sklearn.utils import shuffle\n",
        "from sklearn.model_selection import train_test_split, RandomizedSearchCV\n",
        "from sklearn.metrics import confusion_matrix, precision_score, recall_score, f1_score, roc_curve, auc\n",
        "import tensorflow as tf\n",
        "from tensorflow.keras.models import Sequential\n",
        "from tensorflow.keras.layers import Conv2D, MaxPooling2D, Flatten, Dense, Dropout, BatchNormalization\n",
        "from tensorflow.keras.optimizers import Adam\n",
        "from tensorflow.keras.losses import binary_crossentropy\n",
        "from tensorflow.keras.metrics import Accuracy\n",
        "from tensorflow.keras.callbacks import EarlyStopping, ModelCheckpoint\n",
        "from tensorflow.keras.preprocessing.image import ImageDataGenerator\n",
        "from tensorflow.keras.models import Sequential, load_model"
      ],
      "metadata": {
        "id": "WvIASDKZPNbS"
      },
      "execution_count": null,
      "outputs": []
    },
    {
      "cell_type": "code",
      "source": [
        "files_trainNO = 'drive/MyDrive/Data/cellphone/training/training/cellphone-NO/'\n",
        "files_trainYES = 'drive/MyDrive/Data/cellphone/training/training/cellphone-YES/'\n",
        "files_OS_trainNO = os.listdir(files_trainNO)\n",
        "files_OS_trainYES = os.listdir(files_trainYES)\n",
        "trainingSamples = np.size(files_OS_trainNO) + np.size(files_OS_trainYES)\n",
        "print(' No cellphone samples:', np.size(files_OS_trainNO))\n",
        "print(' Yes cellphone samples:', np.size(files_OS_trainYES))\n",
        "print(' Total training samples:', trainingSamples)"
      ],
      "metadata": {
        "id": "GJp8Lc3qPi7A"
      },
      "execution_count": null,
      "outputs": []
    },
    {
      "cell_type": "code",
      "source": [
        "# Function to load and preprocess images\n",
        "def load_and_preprocess_images(directory, img_size=(80, 80)):\n",
        "    images = []\n",
        "    labels = []\n",
        "    category = directory.split('/')[-2].split('-')[-1]\n",
        "    print(category)\n",
        "    for filename in os.listdir(directory):\n",
        "        img_array = cv2.imread(os.path.join(directory, filename), cv2.IMREAD_GRAYSCALE)\n",
        "        new_img_array = cv2.resize(img_array, dsize=img_size)\n",
        "        images.append(new_img_array)\n",
        "        labels.append(1 if 'yes' in category.lower() else 0)  # Assuming 'yes' is positive class, 'no' is negative\n",
        "\n",
        "    return np.array(images), np.array(labels)\n",
        "\n",
        "# Load and preprocess images\n",
        "imagesNo, labelsNo = load_and_preprocess_images(files_trainNO, img_size=(80, 80))\n",
        "imagesYes, labelsYes = load_and_preprocess_images(files_trainYES, img_size=(80, 80))"
      ],
      "metadata": {
        "id": "VFltmZYMQpPN"
      },
      "execution_count": null,
      "outputs": []
    },
    {
      "cell_type": "code",
      "source": [
        "# Display 8 random No images after labeling\n",
        "plt.figure(figsize=(15, 10))\n",
        "for i in range(8):\n",
        "    random_index = random.randint(0, len(imagesNo)-1)\n",
        "    plt.subplot(2, 4, i+1)\n",
        "    plt.imshow(imagesNo[random_index], cmap='gray')\n",
        "    plt.title(f\"Label: {labelsNo[random_index]}\")\n",
        "    plt.axis('off')\n",
        "\n",
        "plt.show()"
      ],
      "metadata": {
        "id": "8cOlzosiT9U_"
      },
      "execution_count": null,
      "outputs": []
    },
    {
      "cell_type": "code",
      "source": [
        "# Display 8 random Yes images after labeling\n",
        "plt.figure(figsize=(15, 10))\n",
        "for i in range(8):\n",
        "    random_index = random.randint(0, len(imagesYes)-1)\n",
        "    plt.subplot(2, 4, i+1)\n",
        "    plt.imshow(imagesYes[random_index], cmap='gray')\n",
        "    plt.title(f\"Label: {labelsYes[random_index]}\")\n",
        "    plt.axis('off')\n",
        "\n",
        "plt.show()"
      ],
      "metadata": {
        "id": "BQu3ze6sVCtU"
      },
      "execution_count": null,
      "outputs": []
    },
    {
      "cell_type": "code",
      "source": [
        "\n",
        "images =  np.concatenate((imagesNo, imagesYes), axis=0)\n",
        "labels =  np.concatenate((labelsNo, labelsYes), axis=0)\n",
        "images, labels = shuffle(images, labels, random_state=2)"
      ],
      "metadata": {
        "id": "cPqd_u8oV8b8"
      },
      "execution_count": null,
      "outputs": []
    },
    {
      "cell_type": "code",
      "source": [
        "# Display 8 random images after labeling\n",
        "plt.figure(figsize=(15, 10))\n",
        "for i in range(8):\n",
        "    random_index = random.randint(0, len(images)-1)\n",
        "    plt.subplot(2, 4, i+1)\n",
        "    plt.imshow(images[random_index], cmap='gray')\n",
        "    plt.title(f\"Label: {labels[random_index]}\")\n",
        "    plt.axis('off')\n",
        "\n",
        "plt.show()"
      ],
      "metadata": {
        "id": "SSLurDNhoOr_"
      },
      "execution_count": null,
      "outputs": []
    },
    {
      "cell_type": "code",
      "source": [
        "# Split the data into training and validation sets\n",
        "train_images, val_images, train_labels, val_labels = train_test_split(images, labels, test_size=0.2, random_state=42)\n",
        "\n",
        "# Normalize pixel values to be between 0 and 1\n",
        "train_images, val_images = train_images / 255.0, val_images / 255.0"
      ],
      "metadata": {
        "id": "qzttme0PXEt5"
      },
      "execution_count": null,
      "outputs": []
    },
    {
      "cell_type": "code",
      "source": [
        "# Display 8 random images after labeling\n",
        "plt.figure(figsize=(15, 10))\n",
        "for i in range(8):\n",
        "    random_index = random.randint(0, len(val_images)-1)\n",
        "    plt.subplot(2, 4, i+1)\n",
        "    plt.imshow(val_images[random_index], cmap='gray')\n",
        "    plt.title(f\"Label: {val_labels[random_index]}\")\n",
        "    plt.axis('off')\n",
        "\n",
        "plt.show()"
      ],
      "metadata": {
        "id": "U794kHQMqlkT"
      },
      "execution_count": null,
      "outputs": []
    },
    {
      "cell_type": "code",
      "source": [
        "# Create an ImageDataGenerator with data augmentation for training\n",
        "train_datagen = ImageDataGenerator(\n",
        "    rescale=1./255,\n",
        "    rotation_range=20,\n",
        "    width_shift_range=0.2,\n",
        "    height_shift_range=0.2,\n",
        "    shear_range=0.2,\n",
        "    zoom_range=0.2,\n",
        "    horizontal_flip=True,\n",
        "    fill_mode='nearest'\n",
        ")\n",
        "\n",
        "# Create a generator for both training and validation data with augmentation\n",
        "train_generator = train_datagen.flow(\n",
        "    train_images.reshape((-1, 80, 80, 1)),\n",
        "    train_labels,\n",
        "    batch_size=32\n",
        ")\n",
        "\n",
        "val_datagen = ImageDataGenerator(rescale=1./255)\n",
        "val_generator = val_datagen.flow(\n",
        "    val_images.reshape((-1, 80, 80, 1)),\n",
        "    val_labels,\n",
        "    batch_size=32\n",
        ")"
      ],
      "metadata": {
        "id": "Wlhi1tn1XUEd"
      },
      "execution_count": null,
      "outputs": []
    },
    {
      "cell_type": "code",
      "source": [
        "# Display 8 random Yes images after labeling\n",
        "plt.figure(figsize=(15, 10))\n",
        "for i in range(8):\n",
        "    random_index = random.randint(0, len(train_generator)-1)\n",
        "    plt.subplot(2, 4, i+1)\n",
        "    plt.imshow(train_generator[random_index][0][0], cmap='gray')\n",
        "    plt.title(f\"Label: {train_generator[random_index][1][0]}\")\n",
        "    plt.axis('off')\n",
        "\n",
        "plt.show()"
      ],
      "metadata": {
        "id": "f27PPjpqXXvt"
      },
      "execution_count": null,
      "outputs": []
    },
    {
      "cell_type": "code",
      "source": [
        "# Define the revised model\n",
        "model = Sequential([\n",
        "    Conv2D(32, (3, 3), activation='relu', input_shape=(80, 80, 1)),\n",
        "    BatchNormalization(),\n",
        "    MaxPooling2D(2, 2),\n",
        "\n",
        "    Conv2D(64, (3, 3), activation='relu'),\n",
        "    BatchNormalization(),\n",
        "    MaxPooling2D(2, 2),\n",
        "\n",
        "    Conv2D(128, (3, 3), activation='relu'),\n",
        "    BatchNormalization(),\n",
        "    MaxPooling2D(2, 2),\n",
        "\n",
        "    Conv2D(256, (3, 3), activation='relu'),\n",
        "    BatchNormalization(),\n",
        "    MaxPooling2D(2, 2),\n",
        "\n",
        "    Flatten(),\n",
        "    Dense(512, activation='relu'),\n",
        "    Dropout(0.5),\n",
        "    Dense(1, activation='sigmoid')\n",
        "])\n",
        "\n",
        "# Compile the model\n",
        "model.compile(optimizer=Adam(learning_rate=0.001), loss=binary_crossentropy, metrics=['accuracy'])\n",
        "\n",
        "# Implement Early Stopping\n",
        "early_stopping = EarlyStopping(monitor='val_loss', patience=3, restore_best_weights=True)\n",
        "\n",
        "# Train the model with the generator for both training and validation\n",
        "history = model.fit(\n",
        "    train_generator,\n",
        "    epochs=20,\n",
        "    validation_data=val_generator\n",
        "    #,callbacks=[early_stopping]\n",
        ")"
      ],
      "metadata": {
        "id": "9AcFsfhtazOV"
      },
      "execution_count": null,
      "outputs": []
    },
    {
      "cell_type": "code",
      "source": [
        "# Plot training & validation accuracy values\n",
        "plt.plot(history.history['accuracy'])\n",
        "plt.plot(history.history['val_accuracy'])\n",
        "plt.title('Model accuracy')\n",
        "plt.ylabel('Accuracy')\n",
        "plt.xlabel('Epoch')\n",
        "plt.legend(['Train', 'Validation'], loc='upper left')\n",
        "plt.show()\n",
        "\n",
        "# Plot training & validation loss values\n",
        "plt.plot(history.history['loss'])\n",
        "plt.plot(history.history['val_loss'])\n",
        "plt.title('Model loss')\n",
        "plt.ylabel('Loss')\n",
        "plt.xlabel('Epoch')\n",
        "plt.legend(['Train', 'Validation'], loc='upper left')\n",
        "plt.show()"
      ],
      "metadata": {
        "id": "NxMioR62kJ29"
      },
      "execution_count": null,
      "outputs": []
    },
    {
      "cell_type": "code",
      "source": [
        "# Predict classes for validation set\n",
        "y_pred = (model.predict(val_generator) > 0.5).astype(\"int32\")\n",
        "\n",
        "# Compute confusion matrix\n",
        "cm = confusion_matrix(val_labels, y_pred)\n",
        "\n",
        "# Plot confusion matrix\n",
        "sns.heatmap(cm, annot=True, fmt=\"d\", cmap=\"Blues\", xticklabels=['Predicted 0', 'Predicted 1'],\n",
        "            yticklabels=['Actual 0', 'Actual 1'])\n",
        "plt.title('Confusion Matrix')\n",
        "plt.show()"
      ],
      "metadata": {
        "id": "VxCzTLn9jP0A"
      },
      "execution_count": null,
      "outputs": []
    },
    {
      "cell_type": "code",
      "source": [
        "precision = precision_score(val_labels, y_pred)\n",
        "recall = recall_score(val_labels, y_pred)\n",
        "f1 = f1_score(val_labels, y_pred)\n",
        "\n",
        "print(f'Precision: {precision:.4f}')\n",
        "print(f'Recall: {recall:.4f}')\n",
        "print(f'F1 Score: {f1:.4f}')"
      ],
      "metadata": {
        "id": "2Kk-b9q9kspv"
      },
      "execution_count": null,
      "outputs": []
    },
    {
      "cell_type": "code",
      "source": [
        "# Function to load and preprocess test images\n",
        "def load_and_preprocess_test_images(directory, img_size=(80, 80)):\n",
        "    images = []\n",
        "\n",
        "    for filename in os.listdir(directory):\n",
        "        img_array = cv2.imread(os.path.join(directory, filename), cv2.IMREAD_GRAYSCALE)\n",
        "        new_img_array = cv2.resize(img_array, dsize=img_size)\n",
        "        images.append(new_img_array)\n",
        "\n",
        "    return np.array(images)\n",
        "\n",
        "# Directory containing test images\n",
        "test_directory =  'drive/MyDrive/Data/cellphone/test_samples/test_samples/'\n",
        "\n",
        "# Load and preprocess test images\n",
        "test_images = load_and_preprocess_test_images(test_directory, img_size=(80, 80))\n",
        "test_images = shuffle(test_images, random_state=2)\n",
        "# Reshape test images to match the model's input shape\n",
        "test_images1 = test_images.reshape((-1, 80, 80, 1))\n",
        "\n",
        "\n",
        "\n",
        "# Use the best model to make predictions on the test data\n",
        "test_predictions = model.predict(test_images1)"
      ],
      "metadata": {
        "id": "bn4XJoCNgw6-"
      },
      "execution_count": null,
      "outputs": []
    },
    {
      "cell_type": "code",
      "source": [
        "# Display some predicted images\n",
        "def display_predicted_images(images, predictions, num_images=4):\n",
        "    plt.figure(figsize=(15, 5))\n",
        "    startImg = 20\n",
        "    for i in range(startImg,startImg+num_images):\n",
        "        plt.subplot(1, num_images, i-startImg + 1)\n",
        "        plt.imshow(images[i].reshape((80, 80)), cmap='gray')\n",
        "        plt.title(f'Predicted: {predictions[i][0]}')\n",
        "        plt.axis('off')\n",
        "    plt.show()\n",
        "\n",
        "# Display predicted images with actual labels\n",
        "display_predicted_images(test_images, test_predictions, num_images=6)"
      ],
      "metadata": {
        "id": "E3Kd-4hehv4I"
      },
      "execution_count": null,
      "outputs": []
    }
  ]
}